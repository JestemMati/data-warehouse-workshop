{
 "cells": [
  {
   "cell_type": "markdown",
   "metadata": {},
   "source": [
    "# ETL"
   ]
  },
  {
   "cell_type": "markdown",
   "metadata": {},
   "source": [
    "## Ecommerce\n",
    "\n",
    "### Time dimension\n",
    "\n",
    "#### Load sql\n",
    "\n",
    "### Product dimension\n",
    "\n",
    "### Category dimension\n",
    "\n",
    "### Sales facts"
   ]
  },
  {
   "cell_type": "markdown",
   "metadata": {},
   "source": [
    "# Homework\n",
    "\n",
    "## Weather\n",
    "\n",
    "Przygotuj proces etl który periodycznie co X minut pobierze dane pogodowe dla wybranego miasta,\n",
    "możesz wykorzystać API dostępne dzięki OPEN WEATHER ``https://openweathermap.org/api``\n",
    "\n",
    "### Wymagania\n",
    "\n",
    "* Projekt tabeli wymiaru czasu \n",
    "* Projekt tabeli wymiaru miasta \n",
    "* Projekt tabeli faktów \n",
    "    * temperatura\n",
    "    * opady \n",
    "* Kod grafu \"DAG\" dla programu airflow\n",
    "\n",
    "    "
   ]
  },
  {
   "cell_type": "code",
   "execution_count": null,
   "metadata": {},
   "outputs": [],
   "source": []
  }
 ],
 "metadata": {
  "kernelspec": {
   "display_name": "Python 3",
   "language": "python",
   "name": "python3"
  },
  "language_info": {
   "codemirror_mode": {
    "name": "ipython",
    "version": 3
   },
   "file_extension": ".py",
   "mimetype": "text/x-python",
   "name": "python",
   "nbconvert_exporter": "python",
   "pygments_lexer": "ipython3",
   "version": "3.8.6"
  }
 },
 "nbformat": 4,
 "nbformat_minor": 4
}
