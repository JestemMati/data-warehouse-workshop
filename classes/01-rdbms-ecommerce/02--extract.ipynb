{
 "cells": [
  {
   "cell_type": "markdown",
   "metadata": {},
   "source": [
    "## ETL\n",
    "\n",
    "### Extraction\n",
    "\n",
    "* First step of data pipeline\n",
    "* Read it from source system\n",
    "\n",
    "### Transformation\n",
    "\n",
    "* Apply relevant modifications\n",
    "\n",
    "### Loading\n",
    "\n",
    "* Save permanently within destination sink\n",
    "\n",
    "\n",
    "### Key question\n",
    "\n",
    "* The source system type (RDBMS, NoSQL, FlatFiles, Twitter/Facebook streams)\n",
    "* The file formats (CSV, JSON, XML, Parquet, Sequence, Object files)\n",
    "* The frequency of the extract ( Daily, Hourly, Every second)\n",
    "* The size of the extract"
   ]
  },
  {
   "cell_type": "code",
   "execution_count": 6,
   "metadata": {},
   "outputs": [
    {
     "name": "stdout",
     "output_type": "stream",
     "text": [
      "{'version': '10.4.15-MariaDB-1:10.4.15+maria~focal'}\n"
     ]
    }
   ],
   "source": [
    "import mysql.connector\n",
    "\n",
    "mycursor = mydb.cursor(dictionary=True)\n",
    "sql = '''Select version() as version'''\n",
    "mycursor.execute(sql,())\n",
    "\n",
    "myresult = mycursor.fetchone()\n",
    "print(myresult)"
   ]
  },
  {
   "cell_type": "code",
   "execution_count": 7,
   "metadata": {},
   "outputs": [],
   "source": [
    "def connection():\n",
    "    mydb = mysql.connector.connect(\n",
    "      host='localhost',\n",
    "      user='root',\n",
    "      password='root',\n",
    "      database='ecommerce'\n",
    "    )\n",
    "    \n",
    "    return mydb"
   ]
  },
  {
   "cell_type": "code",
   "execution_count": 8,
   "metadata": {},
   "outputs": [],
   "source": [
    "db = connection()\n",
    "cursor = db.cursor(dictionary=True)\n",
    "db.commit()"
   ]
  },
  {
   "cell_type": "markdown",
   "metadata": {},
   "source": [
    "# godzinna ilość użytkowników"
   ]
  },
  {
   "cell_type": "code",
   "execution_count": 17,
   "metadata": {},
   "outputs": [],
   "source": [
    "db = connection()\n",
    "cursor = db.cursor(dictionary=True)\n",
    "\n",
    "sql = '''\n",
    "    SELECT\n",
    "        DATE_FORMAT(c.created_at, '%Y-%m-%d %H:%i:%s') as hourly_date,\n",
    "        count(*) as customers_count\n",
    "    FROM\n",
    "        ecommerce_customer c\n",
    "    GROUP BY\n",
    "        DATE_FORMAT(c.created_at, '%Y%m%d%H')\n",
    "'''\n",
    "\n",
    "cursor.execute(sql)\n",
    "results = cursor.fetchall()"
   ]
  },
  {
   "cell_type": "code",
   "execution_count": 18,
   "metadata": {},
   "outputs": [
    {
     "data": {
      "text/plain": [
       "[{'hourly_date': '2020-11-26 18:39:57', 'customers_count': 21},\n",
       " {'hourly_date': '2020-11-27 11:01:24', 'customers_count': 363}]"
      ]
     },
     "execution_count": 18,
     "metadata": {},
     "output_type": "execute_result"
    }
   ],
   "source": [
    "results"
   ]
  },
  {
   "cell_type": "code",
   "execution_count": 20,
   "metadata": {},
   "outputs": [],
   "source": [
    "db = connection()\n",
    "cursor = db.cursor(dictionary=True)\n",
    "\n",
    "sql = '''\n",
    "    SELECT\n",
    "        DATE_FORMAT(c.created_at, '%Y-%m-%d %H:%i:%s') as hourly_date,\n",
    "        count(*) as customers_count\n",
    "    FROM\n",
    "        ecommerce_customer c\n",
    "    Where c.created_at > DATE_ADD(NOW(),INTERVAL -1 MONTH)\n",
    "    GROUP BY\n",
    "        DATE_FORMAT(c.created_at, '%Y%m%d%H')\n",
    "'''\n",
    "\n",
    "cursor.execute(sql)\n",
    "results = cursor.fetchall()"
   ]
  },
  {
   "cell_type": "markdown",
   "metadata": {},
   "source": [
    "## Problemy\n",
    "\n",
    "https://en.wikipedia.org/wiki/Fallacies_of_distributed_computing\n"
   ]
  },
  {
   "cell_type": "code",
   "execution_count": null,
   "metadata": {},
   "outputs": [],
   "source": []
  }
 ],
 "metadata": {
  "kernelspec": {
   "display_name": "Python 3",
   "language": "python",
   "name": "python3"
  },
  "language_info": {
   "codemirror_mode": {
    "name": "ipython",
    "version": 3
   },
   "file_extension": ".py",
   "mimetype": "text/x-python",
   "name": "python",
   "nbconvert_exporter": "python",
   "pygments_lexer": "ipython3",
   "version": "3.8.5"
  }
 },
 "nbformat": 4,
 "nbformat_minor": 4
}
