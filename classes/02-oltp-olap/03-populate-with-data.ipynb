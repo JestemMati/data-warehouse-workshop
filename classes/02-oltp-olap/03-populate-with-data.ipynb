{
 "cells": [
  {
   "cell_type": "code",
   "execution_count": 13,
   "metadata": {},
   "outputs": [],
   "source": [
    "import mysql.connector\n",
    "import psycopg2"
   ]
  },
  {
   "cell_type": "code",
   "execution_count": 14,
   "metadata": {},
   "outputs": [],
   "source": [
    "def source():\n",
    "    mydb = mysql.connector.connect(\n",
    "      host='localhost',\n",
    "      user='root',\n",
    "      password='root',\n",
    "      database='ecommerce'\n",
    "    )\n",
    "    \n",
    "    return mydb"
   ]
  },
  {
   "cell_type": "code",
   "execution_count": 15,
   "metadata": {},
   "outputs": [],
   "source": [
    "def dest():\n",
    "    connection = psycopg2.connect(user=\"warehouse\",\n",
    "                                  password=\"warehouse\",\n",
    "                                  host=\"127.0.0.1\",\n",
    "                                  port=\"5432\",\n",
    "                                  database=\"warehouse\")\n",
    "    return connection\n",
    "    "
   ]
  },
  {
   "cell_type": "code",
   "execution_count": 18,
   "metadata": {},
   "outputs": [],
   "source": [
    "def get_last_product_id(connection):\n",
    "    try:\n",
    "        cursor = connection.cursor()\n",
    "        cursor.execute(\"select product_id from products order by product_id DESC limit 1\")\n",
    "        return cursor.fetchone()[0]\n",
    "    except (Exception, psycopg2.DataError) as error:\n",
    "        print (\"Error while creating PostgreSQL table\", error)\n",
    "    finally:\n",
    "        #closing database connection.\n",
    "        if(connection):\n",
    "            cursor.close()\n",
    "            connection.close()\n",
    "            print(\"PostgreSQL connection is closed\")"
   ]
  },
  {
   "cell_type": "code",
   "execution_count": 21,
   "metadata": {},
   "outputs": [],
   "source": [
    "def get_last_category_id(connection):\n",
    "    try:\n",
    "        cursor = connection.cursor()\n",
    "        cursor.execute(\"select category_id from categories order by category_id DESC limit 1\")\n",
    "        return cursor.fetchone()[0]\n",
    "    except (Exception, psycopg2.DataError) as error:\n",
    "        print (\"Error while creating PostgreSQL table\", error)\n",
    "    finally:\n",
    "        #closing database connection.\n",
    "        if(connection):\n",
    "            cursor.close()\n",
    "            connection.close()\n",
    "            print(\"PostgreSQL connection is closed\")"
   ]
  },
  {
   "cell_type": "code",
   "execution_count": 23,
   "metadata": {},
   "outputs": [
    {
     "name": "stdout",
     "output_type": "stream",
     "text": [
      "PostgreSQL connection is closed\n",
      "PostgreSQL connection is closed\n"
     ]
    }
   ],
   "source": [
    "last_product_id = get_last_product_id(dest())\n",
    "last_category_id = get_last_category_id(dest())"
   ]
  },
  {
   "cell_type": "code",
   "execution_count": 24,
   "metadata": {},
   "outputs": [
    {
     "data": {
      "text/plain": [
       "(3, 2)"
      ]
     },
     "execution_count": 24,
     "metadata": {},
     "output_type": "execute_result"
    }
   ],
   "source": [
    "last_product_id, last_category_id"
   ]
  },
  {
   "cell_type": "code",
   "execution_count": 49,
   "metadata": {},
   "outputs": [],
   "source": [
    "def get_missing_products(db, last_product_id):\n",
    "    cursor = db.cursor()\n",
    "    print(\"last prod id {}\".format(last_product_id))\n",
    "\n",
    "    sql = '''\n",
    "        SELECT\n",
    "            p.id as product_id,\n",
    "            p.code as name\n",
    "        FROM\n",
    "            ecommerce_product p \n",
    "        WHERE\n",
    "            p.id > %s\n",
    "    ;\n",
    "    '''\n",
    "\n",
    "    cursor.execute(sql, (last_product_id,))\n",
    "    \n",
    "    results = cursor.fetchall()\n",
    "    return results\n",
    "    "
   ]
  },
  {
   "cell_type": "code",
   "execution_count": 79,
   "metadata": {},
   "outputs": [
    {
     "name": "stdout",
     "output_type": "stream",
     "text": [
      "PostgreSQL connection is closed\n",
      "last prod id 21\n"
     ]
    }
   ],
   "source": [
    "products = get_missing_products(source(), get_last_product_id(dest()))"
   ]
  },
  {
   "cell_type": "code",
   "execution_count": 80,
   "metadata": {},
   "outputs": [],
   "source": [
    "from psycopg2.extras import execute_values\n",
    "def insert_many_dest(connection, sql, items):\n",
    "    try:\n",
    "        cursor = connection.cursor()\n",
    "        execute_values(cursor, sql, items)\n",
    "        connection.commit()\n",
    "    except (Exception, psycopg2.DataError) as error:\n",
    "        print (\"Error while creating PostgreSQL table\", error)\n",
    "    finally:\n",
    "        #closing database connection.\n",
    "        if(connection):\n",
    "            cursor.close()\n",
    "            connection.close()\n",
    "            print(\"PostgreSQL connection is closed\")"
   ]
  },
  {
   "cell_type": "code",
   "execution_count": 81,
   "metadata": {},
   "outputs": [
    {
     "name": "stdout",
     "output_type": "stream",
     "text": [
      "PostgreSQL connection is closed\n",
      "last prod id 21\n",
      "PostgreSQL connection is closed\n"
     ]
    }
   ],
   "source": [
    "products = get_missing_products(source(), get_last_product_id(dest()))\n",
    "insert_many_dest(dest(), 'Insert into products (product_id, name) VALUES %s', products)"
   ]
  },
  {
   "cell_type": "code",
   "execution_count": 82,
   "metadata": {},
   "outputs": [],
   "source": [
    "def extract():\n",
    "    products = get_missing_products(source(), get_last_product_id(dest()))\n",
    "    \n",
    "    return (products)"
   ]
  },
  {
   "cell_type": "code",
   "execution_count": 83,
   "metadata": {},
   "outputs": [],
   "source": [
    "def transform(data):\n",
    "    return data"
   ]
  },
  {
   "cell_type": "code",
   "execution_count": 84,
   "metadata": {},
   "outputs": [],
   "source": [
    "def load(data):\n",
    "    (products) = data\n",
    "    insert_many_dest(dest(), 'Insert into products (product_id, name) VALUES %s', products)"
   ]
  },
  {
   "cell_type": "code",
   "execution_count": 85,
   "metadata": {},
   "outputs": [
    {
     "name": "stdout",
     "output_type": "stream",
     "text": [
      "PostgreSQL connection is closed\n",
      "last prod id 21\n",
      "PostgreSQL connection is closed\n"
     ]
    }
   ],
   "source": [
    "load(transform(extract()))\n"
   ]
  },
  {
   "cell_type": "code",
   "execution_count": null,
   "metadata": {},
   "outputs": [],
   "source": []
  }
 ],
 "metadata": {
  "kernelspec": {
   "display_name": "Python 3",
   "language": "python",
   "name": "python3"
  },
  "language_info": {
   "codemirror_mode": {
    "name": "ipython",
    "version": 3
   },
   "file_extension": ".py",
   "mimetype": "text/x-python",
   "name": "python",
   "nbconvert_exporter": "python",
   "pygments_lexer": "ipython3",
   "version": "3.8.6"
  }
 },
 "nbformat": 4,
 "nbformat_minor": 4
}
