{
 "cells": [
  {
   "cell_type": "code",
   "execution_count": 8,
   "metadata": {},
   "outputs": [],
   "source": [
    "import mysql.connector\n",
    "import psycopg2"
   ]
  },
  {
   "cell_type": "code",
   "execution_count": 9,
   "metadata": {},
   "outputs": [],
   "source": [
    "def source():\n",
    "    mydb = mysql.connector.connect(\n",
    "      host='localhost',\n",
    "      user='root',\n",
    "      password='root',\n",
    "      database='ecommerce'\n",
    "    )\n",
    "    \n",
    "    return mydb"
   ]
  },
  {
   "cell_type": "code",
   "execution_count": 10,
   "metadata": {},
   "outputs": [],
   "source": [
    "def dest():\n",
    "    connection = psycopg2.connect(user=\"warehouse\",\n",
    "                                  password=\"warehouse\",\n",
    "                                  host=\"127.0.0.1\",\n",
    "                                  port=\"5432\",\n",
    "                                  database=\"warehouse\")\n",
    "    return connection\n",
    "    "
   ]
  },
  {
   "cell_type": "code",
   "execution_count": 11,
   "metadata": {},
   "outputs": [],
   "source": [
    "def get_last_product_id(connection):\n",
    "    try:\n",
    "        cursor = connection.cursor()\n",
    "        cursor.execute(\"select product_id from products order by product_id DESC limit 1\")\n",
    "        return cursor.fetchone()[0]\n",
    "    except (Exception, psycopg2.DataError) as error:\n",
    "        print (\"Error while creating PostgreSQL table\", error)\n",
    "    finally:\n",
    "        #closing database connection.\n",
    "        if(connection):\n",
    "            cursor.close()\n",
    "            connection.close()\n",
    "            print(\"PostgreSQL connection is closed\")"
   ]
  },
  {
   "cell_type": "code",
   "execution_count": 12,
   "metadata": {},
   "outputs": [],
   "source": [
    "def get_last_category_id(connection):\n",
    "    try:\n",
    "        cursor = connection.cursor()\n",
    "        cursor.execute(\"select category_id from categories order by category_id DESC limit 1\")\n",
    "        return cursor.fetchone()[0]\n",
    "    except (Exception, psycopg2.DataError) as error:\n",
    "        print (\"Error while creating PostgreSQL table\", error)\n",
    "    finally:\n",
    "        #closing database connection.\n",
    "        if(connection):\n",
    "            cursor.close()\n",
    "            connection.close()\n",
    "            print(\"PostgreSQL connection is closed\")"
   ]
  },
  {
   "cell_type": "code",
   "execution_count": 35,
   "metadata": {},
   "outputs": [],
   "source": [
    "def get_last_order_id(connection):\n",
    "    try:\n",
    "        cursor = connection.cursor()\n",
    "        cursor.execute(\"select order_id from sales order by order_id DESC limit 1\")\n",
    "        res = cursor.fetchone()\n",
    "        return res[0] if res != None else 0\n",
    "    except (Exception, psycopg2.DataError) as error:\n",
    "        print (\"Error while creating PostgreSQL table\", error)\n",
    "    finally:\n",
    "        #closing database connection.\n",
    "        if(connection):\n",
    "            cursor.close()\n",
    "            connection.close()\n",
    "            print(\"PostgreSQL connection is closed\")"
   ]
  },
  {
   "cell_type": "code",
   "execution_count": 36,
   "metadata": {},
   "outputs": [
    {
     "name": "stdout",
     "output_type": "stream",
     "text": [
      "PostgreSQL connection is closed\n",
      "PostgreSQL connection is closed\n",
      "PostgreSQL connection is closed\n"
     ]
    }
   ],
   "source": [
    "last_product_id = get_last_product_id(dest())\n",
    "last_category_id = get_last_category_id(dest())\n",
    "last_order_id = get_last_order_id(dest())"
   ]
  },
  {
   "cell_type": "code",
   "execution_count": 37,
   "metadata": {},
   "outputs": [
    {
     "data": {
      "text/plain": [
       "(21, 11, 0)"
      ]
     },
     "execution_count": 37,
     "metadata": {},
     "output_type": "execute_result"
    }
   ],
   "source": [
    "last_product_id, last_category_id, last_order_id"
   ]
  },
  {
   "cell_type": "code",
   "execution_count": 41,
   "metadata": {},
   "outputs": [],
   "source": [
    "def get_missing_products(db, last_product_id):\n",
    "    cursor = db.cursor()\n",
    "    print(\"last prod id {}\".format(last_product_id))\n",
    "\n",
    "    sql = '''\n",
    "        SELECT\n",
    "            p.id as product_id,\n",
    "            p.code as name\n",
    "        FROM\n",
    "            ecommerce_product p \n",
    "        WHERE\n",
    "            p.id > %s\n",
    "    ;\n",
    "    '''\n",
    "\n",
    "    cursor.execute(sql, (last_product_id,))\n",
    "    \n",
    "    results = cursor.fetchall()\n",
    "    return results\n",
    "    "
   ]
  },
  {
   "cell_type": "code",
   "execution_count": 42,
   "metadata": {},
   "outputs": [],
   "source": [
    "def get_missing_categories(db, last_category_id):\n",
    "    cursor = db.cursor()\n",
    "    print(\"last cat id {}\".format(last_category_id))\n",
    "\n",
    "    sql = '''\n",
    "        SELECT\n",
    "            c.id as category_id,\n",
    "            c.code as name\n",
    "        FROM\n",
    "            ecommerce_taxon c \n",
    "        WHERE\n",
    "            c.id > %s\n",
    "    ;\n",
    "    '''\n",
    "\n",
    "    cursor.execute(sql, (last_category_id,))\n",
    "    \n",
    "    results = cursor.fetchall()\n",
    "    return results"
   ]
  },
  {
   "cell_type": "code",
   "execution_count": 45,
   "metadata": {},
   "outputs": [],
   "source": [
    "def get_missing_sales(db, last_order_id):\n",
    "    cursor = db.cursor()\n",
    "    print(\"last order id {}\".format(last_order_id))\n",
    "\n",
    "    sql = '''\n",
    "        SELECT\n",
    "            oi.order_id as order_id,\n",
    "            pv.product_id as product_id,\n",
    "            p.main_taxon_id as category_id,\n",
    "            sum(oi.total) as total_sale\n",
    "        FROM\n",
    "            ecommerce_order_item oi\n",
    "        JOIN \n",
    "            ecommerce_product_variant pv on pv.id = oi.variant_id\n",
    "        JOIN \n",
    "            ecommerce_product p on pv.product_id = p.id\n",
    "        WHERE\n",
    "            oi.order_id > %s\n",
    "        GROUP BY\n",
    "            oi.order_id,\n",
    "            pv.product_id\n",
    "    ;\n",
    "    '''\n",
    "\n",
    "    cursor.execute(sql, (last_order_id,))\n",
    "    \n",
    "    results = cursor.fetchall()\n",
    "    return results"
   ]
  },
  {
   "cell_type": "code",
   "execution_count": 46,
   "metadata": {},
   "outputs": [
    {
     "name": "stdout",
     "output_type": "stream",
     "text": [
      "PostgreSQL connection is closed\n",
      "last prod id 21\n",
      "PostgreSQL connection is closed\n",
      "last cat id 11\n",
      "PostgreSQL connection is closed\n",
      "last order id 0\n"
     ]
    }
   ],
   "source": [
    "products = get_missing_products(source(), get_last_product_id(dest()))\n",
    "categories = get_missing_categories(source(), get_last_category_id(dest()))\n",
    "sales = get_missing_sales(source(), get_last_order_id(dest()))"
   ]
  },
  {
   "cell_type": "code",
   "execution_count": 53,
   "metadata": {},
   "outputs": [],
   "source": [
    "from psycopg2.extras import execute_values\n",
    "def insert_many_dest(connection, sql, items):\n",
    "    try:\n",
    "        cursor = connection.cursor()\n",
    "        execute_values(cursor, sql, items)\n",
    "        connection.commit()\n",
    "    except (Exception, psycopg2.DataError) as error:\n",
    "        print (\"Error while creating PostgreSQL table\", error)\n",
    "    finally:\n",
    "        #closing database connection.\n",
    "        if(connection):\n",
    "            cursor.close()\n",
    "            connection.close()\n",
    "            print(\"PostgreSQL connection is closed\")"
   ]
  },
  {
   "cell_type": "code",
   "execution_count": 54,
   "metadata": {},
   "outputs": [
    {
     "name": "stdout",
     "output_type": "stream",
     "text": [
      "PostgreSQL connection is closed\n",
      "last prod id 21\n",
      "PostgreSQL connection is closed\n"
     ]
    }
   ],
   "source": [
    "products = get_missing_products(source(), get_last_product_id(dest()))\n",
    "insert_many_dest(dest(), 'Insert into products (product_id, name) VALUES %s', products)"
   ]
  },
  {
   "cell_type": "code",
   "execution_count": 55,
   "metadata": {},
   "outputs": [],
   "source": [
    "def extract():\n",
    "    products = get_missing_products(source(), get_last_product_id(dest()))\n",
    "    categories = get_missing_categories(source(), get_last_category_id(dest()))\n",
    "    sales = get_missing_sales(source(), get_last_order_id(dest()))\n",
    "    \n",
    "    return (products, categories, sales)"
   ]
  },
  {
   "cell_type": "code",
   "execution_count": 56,
   "metadata": {},
   "outputs": [],
   "source": [
    "def transform(data):\n",
    "    return data"
   ]
  },
  {
   "cell_type": "code",
   "execution_count": 68,
   "metadata": {},
   "outputs": [],
   "source": [
    "def load(data):\n",
    "    (products, categories, sales) = data\n",
    "    insert_many_dest(dest(), 'Insert into products (product_id, name) VALUES %s', products)\n",
    "    insert_many_dest(dest(), 'Insert into categories (category_id, name) VALUES %s', categories)\n",
    "    insert_many_dest(dest(), 'Insert into sales (order_id, product_id, category_id, total_sales) VALUES %s', sales)"
   ]
  },
  {
   "cell_type": "code",
   "execution_count": 78,
   "metadata": {},
   "outputs": [
    {
     "name": "stdout",
     "output_type": "stream",
     "text": [
      "PostgreSQL connection is closed\n",
      "last prod id 21\n",
      "PostgreSQL connection is closed\n",
      "last cat id 11\n",
      "PostgreSQL connection is closed\n",
      "last order id 1232\n",
      "PostgreSQL connection is closed\n",
      "PostgreSQL connection is closed\n",
      "PostgreSQL connection is closed\n"
     ]
    }
   ],
   "source": [
    "load(transform(extract()))\n"
   ]
  },
  {
   "cell_type": "code",
   "execution_count": null,
   "metadata": {},
   "outputs": [],
   "source": []
  },
  {
   "cell_type": "code",
   "execution_count": null,
   "metadata": {},
   "outputs": [],
   "source": []
  }
 ],
 "metadata": {
  "kernelspec": {
   "display_name": "Python 3",
   "language": "python",
   "name": "python3"
  },
  "language_info": {
   "codemirror_mode": {
    "name": "ipython",
    "version": 3
   },
   "file_extension": ".py",
   "mimetype": "text/x-python",
   "name": "python",
   "nbconvert_exporter": "python",
   "pygments_lexer": "ipython3",
   "version": "3.8.6"
  }
 },
 "nbformat": 4,
 "nbformat_minor": 4
}
