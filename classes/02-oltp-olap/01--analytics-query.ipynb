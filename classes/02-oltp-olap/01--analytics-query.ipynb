{
 "cells": [
  {
   "cell_type": "markdown",
   "metadata": {},
   "source": [
    "# zapytania\n",
    "\n",
    "* sprzedaz wzgledem towaru\n",
    "\n",
    "* sprzedaz wzgledem towaru i kategorii \n",
    "\n",
    "* sprzedaz wzgledem towaru, kategorii, dzienna/ godzinowa\n",
    "\n",
    "* sprzedaz wzgledem towaru, klienta,\n",
    "* sprzedaz wzgledem towaru, miasta czy województwa\n",
    "\n",
    "* sprzedaz wzgledem towaru względem platformy"
   ]
  },
  {
   "cell_type": "markdown",
   "metadata": {},
   "source": [
    "## sprzedaz wzgledem towaru\n",
    "\n",
    "```sql\n",
    "SELECT\n",
    "\toi.order_id,\n",
    "\tpv.product_id,\n",
    "\tsum(oi.total)\n",
    "FROM\n",
    "\tecommerce_order_item oi\n",
    "JOIN \n",
    "\tecommerce_product_variant pv on pv.id = oi.variant_id\n",
    "GROUP BY\n",
    "\toi.order_id,\n",
    "\tpv.product_id\n",
    ";\n",
    "```"
   ]
  },
  {
   "cell_type": "markdown",
   "metadata": {},
   "source": [
    "## sprzedaz wzgledem towaru i kategorii\n",
    "\n",
    "```sql\n",
    "SELECT\n",
    "\tt.id as category_id,\n",
    "\tpv.product_id,\n",
    "\tsum(oi.total)\n",
    "FROM\n",
    "\tecommerce_order_item oi\n",
    "JOIN \n",
    "\tecommerce_product_variant pv on pv.id = oi.variant_id\n",
    "JOIN\n",
    "\tecommerce_product p on p.id = pv.product_id\n",
    "JOIN\n",
    "\tecommerce_taxon t on t.id = p.main_taxon_id\n",
    "GROUP BY\n",
    "\tt.id,\n",
    "\tpv.product_id\n",
    "```"
   ]
  },
  {
   "cell_type": "markdown",
   "metadata": {},
   "source": [
    "## Numerowanie + window functions\n",
    "\n",
    "```sql\n",
    "SELECT\n",
    "\tRANK() OVER (ORDER BY total_sales DESC) as _rank,\n",
    "\tRANK() OVER (PARTITION BY  p.main_taxon_id ORDER BY total_sales DESC) as _rank_category,\n",
    "\tpv.product_id,\n",
    "\tp.main_taxon_id as category_id,\n",
    "\tsum(oi.total) AS total_sales\n",
    "FROM\n",
    "\tecommerce_order_item oi\n",
    "\tJOIN ecommerce_product_variant pv ON pv.id = oi.variant_id\n",
    "\tJOIN ecommerce_product p ON p.id = pv.product_id\n",
    "\n",
    "GROUP BY\n",
    "\tpv.product_id\n",
    "```"
   ]
  },
  {
   "cell_type": "markdown",
   "metadata": {},
   "source": [
    "## Widoki\n",
    "\n",
    "```sql\n",
    "CREATE OR REPLACE view top_seling_products AS (Select ......)\n",
    "```"
   ]
  },
  {
   "cell_type": "markdown",
   "metadata": {},
   "source": [
    "![](./oltp_olap.png \"Decyzje\")"
   ]
  },
  {
   "cell_type": "code",
   "execution_count": null,
   "metadata": {},
   "outputs": [],
   "source": []
  },
  {
   "cell_type": "markdown",
   "metadata": {},
   "source": [
    "## Przetwarzanie analityczne\n",
    "\n",
    "* fizyczne odseparowanie przetwarzania analitycznego od przetwarzania transakcyjnego (różne serwery);\n",
    "* postać danych przygotowaną do prowadzenia analiz, zarówno pod względem zawartości, jak i organizacji — perspektywy lub ich materializację do tabel;\n",
    "* wstępne przetworzenie danych — wyznaczenie podsumowań dla wybranych kolumn;\n",
    "* model przechowywania danych adekwatny do potrzeb analizy — pozwala to na szybkie \n",
    "* tworzenie nowych analiz korzystających z istniejących obliczeń i specjalnego zestawu funkcji i operatorów dedykowanego dla potrzeb hurtowni danych;\n",
    "* odpytywanie danych za pomocą rozszerzenia języka SQL — MDX SQL (MultiDimensional eXtension);\n",
    "* wizualizację danych uzyskanych po przeprowadzeniu analiz.\n",
    "\n"
   ]
  },
  {
   "cell_type": "markdown",
   "metadata": {},
   "source": [
    "## Hurtownia\n",
    "\n",
    "* https://www.postgresql.org/docs/13/datatype.html\n",
    "\n",
    "### sprint 1\n",
    "\n",
    "#### Wymiary\n",
    "\n",
    "* produkt\n",
    "* kategoria\n",
    "\n",
    "#### Fakty\n",
    "\n",
    "* wartość sprzedaży\n",
    "\n",
    "\n",
    "#### TO DO\n",
    "\n",
    "- [ ] projekt docelowej struktury\n",
    "- [ ] wypełnienie tabeli wymiarów\n",
    "- [ ] wypełnienie tabeli faktów"
   ]
  },
  {
   "cell_type": "markdown",
   "metadata": {},
   "source": [
    "### Sprint 2\n",
    "\n",
    "#### Wymiary\n",
    "* produkt\n",
    "* kategoria\n",
    "* data\n",
    "\n",
    "#### Fakty\n",
    "* wartość sprzedaży\n",
    "* liczebność sprzedaży (quantity)\n",
    "\n",
    "#### TO DO\n",
    "\n",
    "- [ ] nowa baza danych\n",
    "- [ ] projekt docelowej struktury\n",
    "- [ ] wypełnienie tabeli wymiarów\n",
    "- [ ] wypełnienie tabeli faktów"
   ]
  },
  {
   "cell_type": "markdown",
   "metadata": {},
   "source": [
    "### Sprint 3\n",
    "\n",
    "#### Wymiary\n",
    "* produkt\n",
    "* kategoria\n",
    "* data\n",
    "* kanał sprzedazy\n",
    "* klient\n",
    "* Miasto dostawy\n",
    "\n",
    "#### Fakty\n",
    "* wartość sprzedaży\n",
    "* liczebność sprzedaży (quantity)\n",
    "\n",
    "#### TO DO\n",
    "\n",
    "- [ ] nowa baza danych\n",
    "- [ ] projekt docelowej struktury\n",
    "- [ ] wypełnienie tabeli wymiarów\n",
    "- [ ] wypełnienie tabeli faktów"
   ]
  },
  {
   "cell_type": "code",
   "execution_count": null,
   "metadata": {},
   "outputs": [],
   "source": []
  },
  {
   "cell_type": "code",
   "execution_count": null,
   "metadata": {},
   "outputs": [],
   "source": []
  },
  {
   "cell_type": "code",
   "execution_count": null,
   "metadata": {},
   "outputs": [],
   "source": []
  }
 ],
 "metadata": {
  "kernelspec": {
   "display_name": "Python 3",
   "language": "python",
   "name": "python3"
  },
  "language_info": {
   "codemirror_mode": {
    "name": "ipython",
    "version": 3
   },
   "file_extension": ".py",
   "mimetype": "text/x-python",
   "name": "python",
   "nbconvert_exporter": "python",
   "pygments_lexer": "ipython3",
   "version": "3.8.6"
  }
 },
 "nbformat": 4,
 "nbformat_minor": 4
}
