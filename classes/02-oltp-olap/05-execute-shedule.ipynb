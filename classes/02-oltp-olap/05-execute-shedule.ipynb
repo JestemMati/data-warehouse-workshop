{
 "cells": [
  {
   "cell_type": "markdown",
   "metadata": {},
   "source": [
    "# Scheduling\n",
    "\n",
    "## crontab\n",
    "\n",
    "```\n",
    "* * * * * echo \"Hello World\"\n",
    "[Minute] [Hour] [Day_of_the_Month] [Month_of_the_Year] [Day_of_the_Week] [command]\n",
    "```\n",
    "\n",
    "* Minute – A minute value can be between 0-59\n",
    "* Hour – A hour value can be between 0-23\n",
    "* Day_of_the_month – This value can between 1-31. For the months having less days will ignore remaining part\n",
    "* Month_of_the_year – This can be between 1-12. You can also define this value with first three alphebts of month like jan, feb, mar, apr etc.\n",
    "* Day_of_the_Week – This can be the value between 0-7. Where 0 and 7 for Sunday, 1 for Monday, 2 for Tuestday etc. You can also use first three alphabets of days like, sun, mon, tue, wed, etc.\n",
    "\n",
    "\n",
    "* Astrics (*) – Matches anything\n",
    "* Multiple values – Use command (,) to define multiple values like 2,4,8 or sun,fri or jan,oct,dec etc.\n",
    "* Define range – You can define range using the hyphen like: 1-10 or 20-30 or sun-fri or feb-apr\n",
    "* Define multiple range – You can define multiple ranges with command separated like: jan-mar,jul-sep\n",
    "\n",
    "### Bash \n",
    "```bash\n",
    "crontab -e\n",
    "```\n",
    "\n",
    "```\n",
    "0 5,17 * * * python /opt/my_etl.py # 5:00 17:00\n",
    "*/10 * * * * python /opt/my_etl.py # every 10 minutes\n",
    "0 17 * * sun,fri python /opt/my_etl.py # 17:00 pt,nd\n",
    "```\n",
    "\n",
    "\n",
    "## Apache AIRFLOW\n",
    "\n",
    "https://airflow.apache.org/docs/apache-airflow/stable/start.html\n",
    "\n",
    "programmatically author, schedule and monitor workflows.\n",
    "\n",
    "![](./aaf_etl.png \"Airflow etl\")"
   ]
  },
  {
   "cell_type": "code",
   "execution_count": null,
   "metadata": {},
   "outputs": [],
   "source": []
  }
 ],
 "metadata": {
  "kernelspec": {
   "display_name": "Python 3",
   "language": "python",
   "name": "python3"
  },
  "language_info": {
   "codemirror_mode": {
    "name": "ipython",
    "version": 3
   },
   "file_extension": ".py",
   "mimetype": "text/x-python",
   "name": "python",
   "nbconvert_exporter": "python",
   "pygments_lexer": "ipython3",
   "version": "3.8.6"
  }
 },
 "nbformat": 4,
 "nbformat_minor": 4
}
