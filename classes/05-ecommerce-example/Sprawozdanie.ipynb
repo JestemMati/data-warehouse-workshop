{
 "cells": [
  {
   "cell_type": "markdown",
   "metadata": {},
   "source": [
    "# Hurtownie danych ćwiczenia 2021 - Uniwersytet Ekonomiczny w Krakowie\n",
    "\n",
    "\n",
    "### Projekt Hurtowni danych dla branży ecommerce\n",
    "#### Diagram\n",
    "\n",
    "#### Opis wymiarów \n",
    "\n",
    "#### Opis faktów\n",
    "\n",
    "### Proces ETL zasilania hurtowni\n",
    "\n",
    "#### Diagram\n",
    "\n",
    "![etl tasks relateion](./cat1.png \"ETL tasks\")\n",
    "\n",
    "#### Opis zadań\n",
    "\n",
    "### Słownik pojęć\n",
    "* ETL\n",
    "    * Extract\n",
    "    * Transform\n",
    "    * Load\n",
    "* Model wielowymiarowy\n",
    "* Wymiar\n",
    "* Fakt\n",
    "* Baza danych transakcyjna\n",
    "* Analityczna baza danych\n",
    "\n",
    "### Create schema SQL\n",
    "\n",
    "```sql\n",
    "Create table()\n",
    "```"
   ]
  },
  {
   "cell_type": "code",
   "execution_count": 8,
   "metadata": {},
   "outputs": [
    {
     "name": "stdout",
     "output_type": "stream",
     "text": [
      "Requirement already satisfied: nbconvert[webpdf] in /Users/jkanclerz/myplace/dydaktyka/hurtownie-danych/.venv/lib/python3.8/site-packages (6.0.7)\n",
      "Requirement already satisfied: defusedxml in /Users/jkanclerz/myplace/dydaktyka/hurtownie-danych/.venv/lib/python3.8/site-packages (from nbconvert[webpdf]) (0.6.0)\n",
      "Requirement already satisfied: testpath in /Users/jkanclerz/myplace/dydaktyka/hurtownie-danych/.venv/lib/python3.8/site-packages (from nbconvert[webpdf]) (0.4.4)\n",
      "Requirement already satisfied: entrypoints>=0.2.2 in /Users/jkanclerz/myplace/dydaktyka/hurtownie-danych/.venv/lib/python3.8/site-packages (from nbconvert[webpdf]) (0.3)\n",
      "Requirement already satisfied: nbclient<0.6.0,>=0.5.0 in /Users/jkanclerz/myplace/dydaktyka/hurtownie-danych/.venv/lib/python3.8/site-packages (from nbconvert[webpdf]) (0.5.1)\n",
      "Requirement already satisfied: pygments>=2.4.1 in /Users/jkanclerz/myplace/dydaktyka/hurtownie-danych/.venv/lib/python3.8/site-packages (from nbconvert[webpdf]) (2.7.2)\n",
      "Requirement already satisfied: jupyterlab-pygments in /Users/jkanclerz/myplace/dydaktyka/hurtownie-danych/.venv/lib/python3.8/site-packages (from nbconvert[webpdf]) (0.1.2)\n",
      "Requirement already satisfied: jinja2>=2.4 in /Users/jkanclerz/myplace/dydaktyka/hurtownie-danych/.venv/lib/python3.8/site-packages (from nbconvert[webpdf]) (2.11.2)\n",
      "Requirement already satisfied: traitlets>=4.2 in /Users/jkanclerz/myplace/dydaktyka/hurtownie-danych/.venv/lib/python3.8/site-packages (from nbconvert[webpdf]) (5.0.5)\n",
      "Requirement already satisfied: bleach in /Users/jkanclerz/myplace/dydaktyka/hurtownie-danych/.venv/lib/python3.8/site-packages (from nbconvert[webpdf]) (3.2.1)\n",
      "Requirement already satisfied: nbformat>=4.4 in /Users/jkanclerz/myplace/dydaktyka/hurtownie-danych/.venv/lib/python3.8/site-packages (from nbconvert[webpdf]) (5.0.8)\n",
      "Requirement already satisfied: pandocfilters>=1.4.1 in /Users/jkanclerz/myplace/dydaktyka/hurtownie-danych/.venv/lib/python3.8/site-packages (from nbconvert[webpdf]) (1.4.3)\n",
      "Requirement already satisfied: mistune<2,>=0.8.1 in /Users/jkanclerz/myplace/dydaktyka/hurtownie-danych/.venv/lib/python3.8/site-packages (from nbconvert[webpdf]) (0.8.4)\n",
      "Requirement already satisfied: jupyter-core in /Users/jkanclerz/myplace/dydaktyka/hurtownie-danych/.venv/lib/python3.8/site-packages (from nbconvert[webpdf]) (4.7.0)\n",
      "Collecting pyppeteer==0.2.2; extra == \"webpdf\"\n",
      "  Downloading pyppeteer-0.2.2-py3-none-any.whl (145 kB)\n",
      "\u001b[K     |████████████████████████████████| 145 kB 2.5 MB/s eta 0:00:01\n",
      "\u001b[?25hRequirement already satisfied: jupyter-client>=6.1.5 in /Users/jkanclerz/myplace/dydaktyka/hurtownie-danych/.venv/lib/python3.8/site-packages (from nbclient<0.6.0,>=0.5.0->nbconvert[webpdf]) (6.1.7)\n",
      "Requirement already satisfied: nest-asyncio in /Users/jkanclerz/myplace/dydaktyka/hurtownie-danych/.venv/lib/python3.8/site-packages (from nbclient<0.6.0,>=0.5.0->nbconvert[webpdf]) (1.4.3)\n",
      "Requirement already satisfied: async-generator in /Users/jkanclerz/myplace/dydaktyka/hurtownie-danych/.venv/lib/python3.8/site-packages (from nbclient<0.6.0,>=0.5.0->nbconvert[webpdf]) (1.10)\n",
      "Requirement already satisfied: MarkupSafe>=0.23 in /Users/jkanclerz/myplace/dydaktyka/hurtownie-danych/.venv/lib/python3.8/site-packages (from jinja2>=2.4->nbconvert[webpdf]) (1.1.1)\n",
      "Requirement already satisfied: ipython-genutils in /Users/jkanclerz/myplace/dydaktyka/hurtownie-danych/.venv/lib/python3.8/site-packages (from traitlets>=4.2->nbconvert[webpdf]) (0.2.0)\n",
      "Requirement already satisfied: webencodings in /Users/jkanclerz/myplace/dydaktyka/hurtownie-danych/.venv/lib/python3.8/site-packages (from bleach->nbconvert[webpdf]) (0.5.1)\n",
      "Requirement already satisfied: packaging in /Users/jkanclerz/myplace/dydaktyka/hurtownie-danych/.venv/lib/python3.8/site-packages (from bleach->nbconvert[webpdf]) (20.4)\n",
      "Requirement already satisfied: six>=1.9.0 in /Users/jkanclerz/myplace/dydaktyka/hurtownie-danych/.venv/lib/python3.8/site-packages (from bleach->nbconvert[webpdf]) (1.15.0)\n",
      "Requirement already satisfied: jsonschema!=2.5.0,>=2.4 in /Users/jkanclerz/myplace/dydaktyka/hurtownie-danych/.venv/lib/python3.8/site-packages (from nbformat>=4.4->nbconvert[webpdf]) (3.2.0)\n",
      "Requirement already satisfied: urllib3<2.0.0,>=1.25.8 in /Users/jkanclerz/myplace/dydaktyka/hurtownie-danych/.venv/lib/python3.8/site-packages (from pyppeteer==0.2.2; extra == \"webpdf\"->nbconvert[webpdf]) (1.25.11)\n",
      "Collecting websockets<9.0,>=8.1\n",
      "  Downloading websockets-8.1-cp38-cp38-macosx_10_9_x86_64.whl (64 kB)\n",
      "\u001b[K     |████████████████████████████████| 64 kB 6.0 MB/s eta 0:00:011\n",
      "\u001b[?25hCollecting appdirs<2.0.0,>=1.4.3\n",
      "  Downloading appdirs-1.4.4-py2.py3-none-any.whl (9.6 kB)\n",
      "Collecting tqdm<5.0.0,>=4.42.1\n",
      "  Downloading tqdm-4.56.0-py2.py3-none-any.whl (72 kB)\n",
      "\u001b[K     |████████████████████████████████| 72 kB 2.7 MB/s  eta 0:00:01\n",
      "\u001b[?25hCollecting pyee<8.0.0,>=7.0.1\n",
      "  Downloading pyee-7.0.4-py2.py3-none-any.whl (12 kB)\n",
      "Requirement already satisfied: python-dateutil>=2.1 in /Users/jkanclerz/myplace/dydaktyka/hurtownie-danych/.venv/lib/python3.8/site-packages (from jupyter-client>=6.1.5->nbclient<0.6.0,>=0.5.0->nbconvert[webpdf]) (2.8.1)\n",
      "Requirement already satisfied: pyzmq>=13 in /Users/jkanclerz/myplace/dydaktyka/hurtownie-danych/.venv/lib/python3.8/site-packages (from jupyter-client>=6.1.5->nbclient<0.6.0,>=0.5.0->nbconvert[webpdf]) (20.0.0)\n",
      "Requirement already satisfied: tornado>=4.1 in /Users/jkanclerz/myplace/dydaktyka/hurtownie-danych/.venv/lib/python3.8/site-packages (from jupyter-client>=6.1.5->nbclient<0.6.0,>=0.5.0->nbconvert[webpdf]) (6.1)\n",
      "Requirement already satisfied: pyparsing>=2.0.2 in /Users/jkanclerz/myplace/dydaktyka/hurtownie-danych/.venv/lib/python3.8/site-packages (from packaging->bleach->nbconvert[webpdf]) (2.4.7)\n",
      "Requirement already satisfied: pyrsistent>=0.14.0 in /Users/jkanclerz/myplace/dydaktyka/hurtownie-danych/.venv/lib/python3.8/site-packages (from jsonschema!=2.5.0,>=2.4->nbformat>=4.4->nbconvert[webpdf]) (0.17.3)\n",
      "Requirement already satisfied: attrs>=17.4.0 in /Users/jkanclerz/myplace/dydaktyka/hurtownie-danych/.venv/lib/python3.8/site-packages (from jsonschema!=2.5.0,>=2.4->nbformat>=4.4->nbconvert[webpdf]) (20.3.0)\n",
      "Requirement already satisfied: setuptools in /Users/jkanclerz/myplace/dydaktyka/hurtownie-danych/.venv/lib/python3.8/site-packages (from jsonschema!=2.5.0,>=2.4->nbformat>=4.4->nbconvert[webpdf]) (47.1.0)\n",
      "Installing collected packages: websockets, appdirs, tqdm, pyee, pyppeteer\n",
      "Successfully installed appdirs-1.4.4 pyee-7.0.4 pyppeteer-0.2.2 tqdm-4.56.0 websockets-8.1\n",
      "\u001b[33mWARNING: You are using pip version 20.1.1; however, version 21.0 is available.\n",
      "You should consider upgrading via the '/Users/jkanclerz/myplace/dydaktyka/hurtownie-danych/.venv/bin/python3 -m pip install --upgrade pip' command.\u001b[0m\n"
     ]
    }
   ],
   "source": [
    "!pip install nbconvert[webpdf]"
   ]
  },
  {
   "cell_type": "code",
   "execution_count": null,
   "metadata": {},
   "outputs": [],
   "source": []
  }
 ],
 "metadata": {
  "kernelspec": {
   "display_name": "Python 3",
   "language": "python",
   "name": "python3"
  },
  "language_info": {
   "codemirror_mode": {
    "name": "ipython",
    "version": 3
   },
   "file_extension": ".py",
   "mimetype": "text/x-python",
   "name": "python",
   "nbconvert_exporter": "python",
   "pygments_lexer": "ipython3",
   "version": "3.8.6"
  }
 },
 "nbformat": 4,
 "nbformat_minor": 4
}
