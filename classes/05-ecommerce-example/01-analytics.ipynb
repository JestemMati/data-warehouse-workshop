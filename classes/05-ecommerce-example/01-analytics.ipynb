{
 "cells": [
  {
   "cell_type": "code",
   "execution_count": 7,
   "metadata": {},
   "outputs": [
    {
     "name": "stdout",
     "output_type": "stream",
     "text": [
      "Requirement already up-to-date: google-api-python-client in /Users/jkanclerz/myplace/dydaktyka/hurtownie-danych/.venv/lib/python3.8/site-packages (1.12.8)\n",
      "Requirement already up-to-date: google-auth-httplib2 in /Users/jkanclerz/myplace/dydaktyka/hurtownie-danych/.venv/lib/python3.8/site-packages (0.0.4)\n",
      "Requirement already up-to-date: google-auth-oauthlib in /Users/jkanclerz/myplace/dydaktyka/hurtownie-danych/.venv/lib/python3.8/site-packages (0.4.2)\n",
      "Collecting oauth2client\n",
      "  Downloading oauth2client-4.1.3-py2.py3-none-any.whl (98 kB)\n",
      "\u001b[K     |████████████████████████████████| 98 kB 1.6 MB/s eta 0:00:01\n",
      "\u001b[?25hRequirement already satisfied, skipping upgrade: six<2dev,>=1.13.0 in /Users/jkanclerz/myplace/dydaktyka/hurtownie-danych/.venv/lib/python3.8/site-packages (from google-api-python-client) (1.15.0)\n",
      "Requirement already satisfied, skipping upgrade: google-api-core<2dev,>=1.21.0 in /Users/jkanclerz/myplace/dydaktyka/hurtownie-danych/.venv/lib/python3.8/site-packages (from google-api-python-client) (1.25.1)\n",
      "Requirement already satisfied, skipping upgrade: google-auth>=1.16.0 in /Users/jkanclerz/myplace/dydaktyka/hurtownie-danych/.venv/lib/python3.8/site-packages (from google-api-python-client) (1.24.0)\n",
      "Requirement already satisfied, skipping upgrade: httplib2<1dev,>=0.15.0 in /Users/jkanclerz/myplace/dydaktyka/hurtownie-danych/.venv/lib/python3.8/site-packages (from google-api-python-client) (0.18.1)\n",
      "Requirement already satisfied, skipping upgrade: uritemplate<4dev,>=3.0.0 in /Users/jkanclerz/myplace/dydaktyka/hurtownie-danych/.venv/lib/python3.8/site-packages (from google-api-python-client) (3.0.1)\n",
      "Requirement already satisfied, skipping upgrade: requests-oauthlib>=0.7.0 in /Users/jkanclerz/myplace/dydaktyka/hurtownie-danych/.venv/lib/python3.8/site-packages (from google-auth-oauthlib) (1.3.0)\n",
      "Requirement already satisfied, skipping upgrade: pyasn1-modules>=0.0.5 in /Users/jkanclerz/myplace/dydaktyka/hurtownie-danych/.venv/lib/python3.8/site-packages (from oauth2client) (0.2.8)\n",
      "Requirement already satisfied, skipping upgrade: rsa>=3.1.4 in /Users/jkanclerz/myplace/dydaktyka/hurtownie-danych/.venv/lib/python3.8/site-packages (from oauth2client) (4.7)\n",
      "Requirement already satisfied, skipping upgrade: pyasn1>=0.1.7 in /Users/jkanclerz/myplace/dydaktyka/hurtownie-danych/.venv/lib/python3.8/site-packages (from oauth2client) (0.4.8)\n",
      "Requirement already satisfied, skipping upgrade: requests<3.0.0dev,>=2.18.0 in /Users/jkanclerz/myplace/dydaktyka/hurtownie-danych/.venv/lib/python3.8/site-packages (from google-api-core<2dev,>=1.21.0->google-api-python-client) (2.24.0)\n",
      "Requirement already satisfied, skipping upgrade: pytz in /Users/jkanclerz/myplace/dydaktyka/hurtownie-danych/.venv/lib/python3.8/site-packages (from google-api-core<2dev,>=1.21.0->google-api-python-client) (2020.4)\n",
      "Requirement already satisfied, skipping upgrade: protobuf>=3.12.0 in /Users/jkanclerz/myplace/dydaktyka/hurtownie-danych/.venv/lib/python3.8/site-packages (from google-api-core<2dev,>=1.21.0->google-api-python-client) (3.14.0)\n",
      "Requirement already satisfied, skipping upgrade: googleapis-common-protos<2.0dev,>=1.6.0 in /Users/jkanclerz/myplace/dydaktyka/hurtownie-danych/.venv/lib/python3.8/site-packages (from google-api-core<2dev,>=1.21.0->google-api-python-client) (1.52.0)\n",
      "Requirement already satisfied, skipping upgrade: setuptools>=40.3.0 in /Users/jkanclerz/myplace/dydaktyka/hurtownie-danych/.venv/lib/python3.8/site-packages (from google-api-core<2dev,>=1.21.0->google-api-python-client) (47.1.0)\n",
      "Requirement already satisfied, skipping upgrade: cachetools<5.0,>=2.0.0 in /Users/jkanclerz/myplace/dydaktyka/hurtownie-danych/.venv/lib/python3.8/site-packages (from google-auth>=1.16.0->google-api-python-client) (4.2.1)\n",
      "Requirement already satisfied, skipping upgrade: oauthlib>=3.0.0 in /Users/jkanclerz/myplace/dydaktyka/hurtownie-danych/.venv/lib/python3.8/site-packages (from requests-oauthlib>=0.7.0->google-auth-oauthlib) (3.1.0)\n",
      "Requirement already satisfied, skipping upgrade: urllib3!=1.25.0,!=1.25.1,<1.26,>=1.21.1 in /Users/jkanclerz/myplace/dydaktyka/hurtownie-danych/.venv/lib/python3.8/site-packages (from requests<3.0.0dev,>=2.18.0->google-api-core<2dev,>=1.21.0->google-api-python-client) (1.25.11)\n",
      "Requirement already satisfied, skipping upgrade: idna<3,>=2.5 in /Users/jkanclerz/myplace/dydaktyka/hurtownie-danych/.venv/lib/python3.8/site-packages (from requests<3.0.0dev,>=2.18.0->google-api-core<2dev,>=1.21.0->google-api-python-client) (2.10)\n",
      "Requirement already satisfied, skipping upgrade: certifi>=2017.4.17 in /Users/jkanclerz/myplace/dydaktyka/hurtownie-danych/.venv/lib/python3.8/site-packages (from requests<3.0.0dev,>=2.18.0->google-api-core<2dev,>=1.21.0->google-api-python-client) (2020.6.20)\n",
      "Requirement already satisfied, skipping upgrade: chardet<4,>=3.0.2 in /Users/jkanclerz/myplace/dydaktyka/hurtownie-danych/.venv/lib/python3.8/site-packages (from requests<3.0.0dev,>=2.18.0->google-api-core<2dev,>=1.21.0->google-api-python-client) (3.0.4)\n",
      "Installing collected packages: oauth2client\n",
      "Successfully installed oauth2client-4.1.3\n",
      "\u001b[33mWARNING: You are using pip version 20.1.1; however, version 21.0 is available.\n",
      "You should consider upgrading via the '/Users/jkanclerz/myplace/dydaktyka/hurtownie-danych/.venv/bin/python3 -m pip install --upgrade pip' command.\u001b[0m\n",
      "Note: you may need to restart the kernel to use updated packages.\n"
     ]
    }
   ],
   "source": [
    "pip install --upgrade google-api-python-client google-auth-httplib2 google-auth-oauthlib oauth2client "
   ]
  },
  {
   "cell_type": "markdown",
   "metadata": {},
   "source": [
    "## Google analytics api\n",
    "\n",
    "### docs\n",
    "https://developers.google.com/analytics/devguides/reporting/core/v4/rest/\n",
    "https://oauth2client.readthedocs.io/en/latest/source/oauth2client.service_account.html\n",
    "\n",
    "### metrics\n",
    "https://ga-dev-tools.appspot.com/dimensions-metrics-explorer/"
   ]
  },
  {
   "cell_type": "code",
   "execution_count": 148,
   "metadata": {},
   "outputs": [],
   "source": [
    "key_content = '''\n",
    "\n",
    "'''"
   ]
  },
  {
   "cell_type": "code",
   "execution_count": 149,
   "metadata": {},
   "outputs": [],
   "source": [
    "from apiclient.discovery import build\n",
    "from oauth2client.service_account import ServiceAccountCredentials\n",
    "\n",
    "import json\n",
    "\n",
    "SCOPES = ['https://www.googleapis.com/auth/analytics.readonly']\n",
    "VIEW_ID = ''\n",
    "\n",
    "\n",
    "def initialize_analyticsreporting():\n",
    "    credentials = ServiceAccountCredentials.from_json_keyfile_dict(json.loads(key_content), SCOPES)\n",
    "    analytics = build('analyticsreporting', 'v4', credentials=credentials)\n",
    "\n",
    "    return analytics\n",
    "\n",
    "\n",
    "def get_report(analytics):\n",
    "    return analytics.reports().batchGet(\n",
    "      body={\n",
    "        'reportRequests': [\n",
    "        {\n",
    "          'viewId': VIEW_ID,\n",
    "          'dateRanges': [{\n",
    "              'startDate': '2021-01-01',\n",
    "              'endDate': '2021-01-01'\n",
    "          }],\n",
    "          'metrics': [{\n",
    "              'expression': 'ga:sessions'\n",
    "          }],\n",
    "          'dimensions': [\n",
    "              {\n",
    "                  'name': 'ga:date'\n",
    "              },\n",
    "              {\n",
    "                  'name': 'ga:hour'\n",
    "              },\n",
    "          ]\n",
    "        }]\n",
    "      }\n",
    "  ).execute()\n",
    "\n"
   ]
  },
  {
   "cell_type": "code",
   "execution_count": 150,
   "metadata": {},
   "outputs": [],
   "source": [
    "from pprint import pprint as pp"
   ]
  },
  {
   "cell_type": "code",
   "execution_count": 151,
   "metadata": {},
   "outputs": [],
   "source": [
    "analytics = initialize_analyticsreporting()\n",
    "response = get_report(analytics)\n"
   ]
  },
  {
   "cell_type": "code",
   "execution_count": 152,
   "metadata": {},
   "outputs": [],
   "source": [
    "report = response.get('reports', [])[0]\n",
    "rows = [row for row in report.get('data', {}).get('rows', [])]"
   ]
  },
  {
   "cell_type": "code",
   "execution_count": 153,
   "metadata": {},
   "outputs": [],
   "source": [
    "visits = [(\"\".join(row.get(\"dimensions\", [])), row.get('metrics')[0].get('values')[0]) for row in rows]"
   ]
  },
  {
   "cell_type": "code",
   "execution_count": 154,
   "metadata": {},
   "outputs": [
    {
     "data": {
      "text/plain": [
       "[('2021010102', '1'), ('2021010111', '2'), ('2021010113', '1')]"
      ]
     },
     "execution_count": 154,
     "metadata": {},
     "output_type": "execute_result"
    }
   ],
   "source": [
    "visits"
   ]
  },
  {
   "cell_type": "markdown",
   "metadata": {},
   "source": [
    "```sql\n",
    "DROP TABLE IF EXISTS visits;\n",
    "CREATE TABLE visits (\n",
    "  id serial PRIMARY KEY,\n",
    "  datetime_id INTEGER NOT NULL UNIQUE,\n",
    "  visitors_count INTEGER NOT NULL,\n",
    "  CONSTRAINT fk_datetime FOREIGN KEY(datetime_id) REFERENCES datetime_dimension(id)\n",
    "  )\n",
    "```"
   ]
  },
  {
   "cell_type": "code",
   "execution_count": 155,
   "metadata": {},
   "outputs": [],
   "source": [
    "import psycopg2"
   ]
  },
  {
   "cell_type": "code",
   "execution_count": 156,
   "metadata": {},
   "outputs": [],
   "source": [
    "def dest():\n",
    "    connection = psycopg2.connect(user=\"warehouse\",\n",
    "                                  password=\"warehouse\",\n",
    "                                  host=\"127.0.0.1\",\n",
    "                                  port=\"5432\",\n",
    "                                  database=\"warehouse\")\n",
    "    return connection\n",
    "    "
   ]
  },
  {
   "cell_type": "code",
   "execution_count": 108,
   "metadata": {},
   "outputs": [],
   "source": [
    "conn = dest()\n",
    "c = conn.cursor()\n",
    "c.executemany('''\n",
    "    Insert into visits (datetime_id, visitors_count) VALUES (%s,%s)\n",
    "    ON CONFLICT \n",
    "    ON CONSTRAINT visits_datetime_id_key DO NOTHING\n",
    "''', visits)\n",
    "\n",
    "conn.commit()"
   ]
  },
  {
   "cell_type": "markdown",
   "metadata": {},
   "source": [
    "## ETL\n",
    "\n",
    "### Extract\n",
    "- Visits from google for specific dates\n",
    "\n",
    "### Transform \n",
    "??\n",
    "\n",
    "### Load\n",
    "Insert into warehouse"
   ]
  },
  {
   "cell_type": "code",
   "execution_count": null,
   "metadata": {},
   "outputs": [],
   "source": []
  }
 ],
 "metadata": {
  "kernelspec": {
   "display_name": "Python 3",
   "language": "python",
   "name": "python3"
  },
  "language_info": {
   "codemirror_mode": {
    "name": "ipython",
    "version": 3
   },
   "file_extension": ".py",
   "mimetype": "text/x-python",
   "name": "python",
   "nbconvert_exporter": "python",
   "pygments_lexer": "ipython3",
   "version": "3.8.6"
  }
 },
 "nbformat": 4,
 "nbformat_minor": 4
}
